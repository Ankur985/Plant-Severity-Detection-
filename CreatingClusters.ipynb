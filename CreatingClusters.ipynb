{
  "nbformat": 4,
  "nbformat_minor": 0,
  "metadata": {
    "colab": {
      "provenance": []
    },
    "kernelspec": {
      "name": "python3",
      "display_name": "Python 3"
    },
    "language_info": {
      "name": "python"
    }
  },
  "cells": [
    {
      "cell_type": "code",
      "source": [
        "import os\n",
        "import cv2\n",
        "from google.colab.patches import cv2_imshow\n",
        "import numpy as np\n",
        "show = cv2_imshow"
      ],
      "metadata": {
        "id": "c6sVELgFMX81"
      },
      "execution_count": null,
      "outputs": []
    },
    {
      "cell_type": "code",
      "source": [
        "c1 = [  \"/content/drive/MyDrive/BiggestComp/_81.9_IMG_0913.jpg\",\n",
        "        \"/content/drive/MyDrive/BiggestComp/_112.9_IMG_0888.jpg\",\n",
        "        \"/content/drive/MyDrive/BiggestComp/_114.3_IMG_0823.jpg\",\n",
        "        \"/content/drive/MyDrive/BiggestComp/_124.6_IMG_0706.jpg\",\n",
        "        \"/content/drive/MyDrive/BiggestComp/_169.1_IMG_0583.jpg\",\n",
        "        \"/content/drive/MyDrive/BiggestComp/_138.6_IMG_0688.jpg\",\n",
        "        \"/content/drive/MyDrive/BiggestComp/_137.9_IMG_0825.jpg\",\n",
        "        \"/content/drive/MyDrive/BiggestComp/_98.7_IMG_0836.jpg\",\n",
        "        \"/content/drive/MyDrive/BiggestComp/_185.6_IMG_0584.jpg\",\n",
        "        \"/content/drive/MyDrive/BiggestComp/_83.3_IMG_0832.jpg\"\n",
        "     ]"
      ],
      "metadata": {
        "id": "SvpWl6rJe_bP"
      },
      "execution_count": null,
      "outputs": []
    },
    {
      "cell_type": "code",
      "source": [
        "c2 = [  \"/content/drive/MyDrive/BiggestComp/_87.4_IMG_0614.jpg\",\n",
        "        \"/content/drive/MyDrive/BiggestComp/_115.2_IMG_0833.jpg\",\n",
        "        \"/content/drive/MyDrive/BiggestComp/_117.1_IMG_0581.jpg\",\n",
        "        \"/content/drive/MyDrive/BiggestComp/_162.0_IMG_0432.jpg\",\n",
        "        \"/content/drive/MyDrive/BiggestComp/_159.7_IMG_0689.jpg\",\n",
        "        \"/content/drive/MyDrive/BiggestComp/_200.0_IMG_0399.jpg\",\n",
        "        \"/content/drive/MyDrive/BiggestComp/_112.9_IMG_0846.jpg\",\n",
        "        \"/content/drive/MyDrive/BiggestComp/_197.5_IMG_0715.jpg\",\n",
        "        \"/content/drive/MyDrive/BiggestComp/_134.5_IMG_0844.jpg\",\n",
        "        \"/content/drive/MyDrive/BiggestComp/_163.7_IMG_0714.jpg\"\n",
        "     ]"
      ],
      "metadata": {
        "id": "M5e3oMzAgqwT"
      },
      "execution_count": null,
      "outputs": []
    },
    {
      "cell_type": "code",
      "source": [
        "c3 = [  \"/content/drive/MyDrive/BiggestComp/_172.9_IMG_0845.jpg\",\n",
        "        \"/content/drive/MyDrive/BiggestComp/_170.0_IMG_0876.jpg\",\n",
        "        \"/content/drive/MyDrive/BiggestComp/_168.7_IMG_0879.jpg\",\n",
        "        \"/content/drive/MyDrive/BiggestComp/_110.7_IMG_0861.jpg\",\n",
        "        \"/content/drive/MyDrive/BiggestComp/_129.1_IMG_0853.jpg\",\n",
        "        \"/content/drive/MyDrive/BiggestComp/_149.9_IMG_0872.jpg\",\n",
        "        \"/content/drive/MyDrive/BiggestComp/_108.5_IMG_0854.jpg\",\n",
        "        \"/content/drive/MyDrive/BiggestComp/_101.1_IMG_0865.jpg\",\n",
        "        \"/content/drive/MyDrive/BiggestComp/_135.0_IMG_0878.jpg\",\n",
        "        \"/content/drive/MyDrive/BiggestComp/_123.4_IMG_0868.jpg\"\n",
        "     ]"
      ],
      "metadata": {
        "id": "nFBaEuHYhjsl"
      },
      "execution_count": null,
      "outputs": []
    },
    {
      "cell_type": "code",
      "source": [
        "m1 = 0\n",
        "m2 = 0\n",
        "m3 = 0\n",
        "\n",
        "for s in c1:\n",
        "    l = -1\n",
        "    r = -1\n",
        "    f = False\n",
        "    for x in range(len(s) - 1, -1, -1):\n",
        "        if (s[x] == '_'):\n",
        "            if (f == False):\n",
        "                f = True\n",
        "                continue\n",
        "            if (r == -1):\n",
        "                r = x\n",
        "            else:\n",
        "                l = x\n",
        "                break\n",
        "\n",
        "    mn = \"\"\n",
        "    for i in range(l + 1, r):\n",
        "        mn += s[i]\n",
        "\n",
        "    # print(float(mn))\n",
        "    m1 += float(mn)\n",
        "\n",
        "for s in c2:\n",
        "    l = -1\n",
        "    r = -1\n",
        "    f = False\n",
        "    for x in range(len(s) - 1, -1, -1):\n",
        "        if (s[x] == '_'):\n",
        "            if (f == False):\n",
        "                f = True\n",
        "                continue\n",
        "            if (r == -1):\n",
        "                r = x\n",
        "            else:\n",
        "                l = x\n",
        "                break\n",
        "\n",
        "    mn = \"\"\n",
        "    for i in range(l + 1, r):\n",
        "        mn += s[i]\n",
        "\n",
        "    # print(float(mn))\n",
        "    m2 += float(mn)\n",
        "\n",
        "for s in c3:\n",
        "    l = -1\n",
        "    r = -1\n",
        "    f = False\n",
        "    for x in range(len(s) - 1, -1, -1):\n",
        "        if (s[x] == '_'):\n",
        "            if (f == False):\n",
        "                f = True\n",
        "                continue\n",
        "            if (r == -1):\n",
        "                r = x\n",
        "            else:\n",
        "                l = x\n",
        "                break\n",
        "\n",
        "    mn = \"\"\n",
        "    for i in range(l + 1, r):\n",
        "        mn += s[i]\n",
        "\n",
        "    # print(float(mn))\n",
        "    m3 += float(mn)\n",
        "\n",
        "m1 /= 10\n",
        "m2 /= 10\n",
        "m3 /= 10"
      ],
      "metadata": {
        "id": "DDWX2nFAiVbg"
      },
      "execution_count": null,
      "outputs": []
    },
    {
      "cell_type": "code",
      "source": [
        "print(f\"Mean of cluster 1 = {m1}\")\n",
        "print(f\"Mean of cluster 2 = {m2}\")\n",
        "print(f\"Mean of cluster 3 = {m3}\")"
      ],
      "metadata": {
        "colab": {
          "base_uri": "https://localhost:8080/"
        },
        "id": "jiWbshBMkNM3",
        "outputId": "ed72f7e3-e6d6-4182-d3f3-910ea1e786cc"
      },
      "execution_count": null,
      "outputs": [
        {
          "output_type": "stream",
          "name": "stdout",
          "text": [
            "Mean of cluster 1 = 124.69000000000001\n",
            "Mean of cluster 2 = 145.00000000000003\n",
            "Mean of cluster 3 = 136.93\n"
          ]
        }
      ]
    },
    {
      "cell_type": "code",
      "source": [],
      "metadata": {
        "id": "B-uMdICQmOPj"
      },
      "execution_count": null,
      "outputs": []
    }
  ]
}